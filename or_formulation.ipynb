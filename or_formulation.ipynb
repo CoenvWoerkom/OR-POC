{
 "cells": [
  {
   "cell_type": "markdown",
   "id": "34da90a7-757c-4342-9105-170490c61ea5",
   "metadata": {},
   "source": [
    "$D^p_e$: decision variable: doet een werknemer ($e$) mee aan een project ($p$)? Binary.\n",
    "\n",
    "$\\textit{s.t.}$ $\\sum\\limits_p D^p_e = 1 \\,\\, \\forall e$: max 1 project per werknemer.\n",
    "\n",
    "$R_{re}$: maakt een werknemer $e$ onderdeel uit van de groep met rol $r$? Binary.\n",
    "\n",
    "$\\sum\\limits_r R_{re} = 1 \\,\\,\\forall e$: Exclusivity. Slechts lid van één groep.\n",
    "\n",
    "$N^p_{re}$: het gewenste aantal werknemers $e$ met rol $r$ op project $p$.\n",
    "\n",
    "$ \\sum\\limits_e D^p_e R_{re} = \\begin{cases} N^p_r && \\forall r \\\\ 0 && \\forall r \\end{cases} \\,\\,\\forall p$: \"Go big or go home\". \n",
    "\n",
    "Óf we matchen de requirements van het project volledig, óf we beginnen er niet aan.\n",
    "(Misschien versimpelen met een extra (afhankelijke) decision variable?)\n",
    "\n",
    "Objective: $ \\sum\\limits_"
   ]
  },
  {
   "cell_type": "code",
   "execution_count": null,
   "id": "788b1b71-31ed-4d9c-ac76-ea5f0ec57dd0",
   "metadata": {},
   "outputs": [],
   "source": [
    "import pyomo as pm"
   ]
  },
  {
   "cell_type": "code",
   "execution_count": null,
   "id": "b0c1ec54",
   "metadata": {},
   "outputs": [],
   "source": [
    "model = pm.AbstractModel()\n",
    "\n",
    "model.m = pm.Param(within=pm.NonNegativeIntegers)\n",
    "model.n = pm.Param(within=pm.NonNegativeIntegers)\n",
    "model.o = pm.Param(within=pm.NonNegativeIntegers)\n",
    "model.q = pm.Param(within=pm.NonNegativeIntegers)\n",
    "\n",
    "model.e = pm.RangeSet(1, model.m) #Employee 1 ... m \n",
    "model.p = pm.RangeSet(1, model.n) #Project 1 ... n \n",
    "model.r = pm.RangeSet(1, model.q) #Role 1 ... q \n",
    "model.t = pm.RangeSet(1, model.o) #Time 1 ... o \n",
    "\n",
    "model.re = pm.Param(model.e, model.r, within=pm.Binary) #Does an employee e have role r\n",
    "model.a  = pm.Param(model.r, model.p) #How many employees with role r are needed at project t\n",
    "\n",
    "model.d  = pm.Var(model.e, model.p, domain = pm.Binary) #Decision variable\n",
    "\n",
    "def obj_expression(mod):\n",
    "    return pm.summation(mod.d)\n",
    "\n",
    "model.OBJ = pm.Objective(rule=obj_expression)\n",
    "\n",
    "def ax_constraint_rule(m, e):\n",
    "    # return the expression for the constraint for i\n",
    "    return sum(m.d[e,p] for p in m.p)  <= 1\n",
    "\n",
    "# the next line creates one constraint for each employee of the set model.e\n",
    "model.AxbConstraint = pm.Constraint(model.e, rule=ax_constraint_rule)\n"
   ]
  }
 ],
 "metadata": {
  "kernelspec": {
   "display_name": "Python 3 (ipykernel)",
   "language": "python",
   "name": "python3"
  },
  "language_info": {
   "codemirror_mode": {
    "name": "ipython",
    "version": 3
   },
   "file_extension": ".py",
   "mimetype": "text/x-python",
   "name": "python",
   "nbconvert_exporter": "python",
   "pygments_lexer": "ipython3",
   "version": "3.10.2"
  }
 },
 "nbformat": 4,
 "nbformat_minor": 5
}
