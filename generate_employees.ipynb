{
 "cells": [
  {
   "cell_type": "code",
   "execution_count": 3,
   "id": "5c287423-e6f2-47c3-8edc-33fcf081fb93",
   "metadata": {},
   "outputs": [
    {
     "ename": "ModuleNotFoundError",
     "evalue": "No module named 'pandas'",
     "output_type": "error",
     "traceback": [
      "\u001b[1;31m---------------------------------------------------------------------------\u001b[0m",
      "\u001b[1;31mModuleNotFoundError\u001b[0m                       Traceback (most recent call last)",
      "\u001b[1;32mc:\\Repos\\pythonprojects\\OR poc\\generate_employees.ipynb Cell 1'\u001b[0m in \u001b[0;36m<cell line: 1>\u001b[1;34m()\u001b[0m\n\u001b[1;32m----> <a href='vscode-notebook-cell:/c%3A/Repos/pythonprojects/OR%20poc/generate_employees.ipynb#ch0000000?line=0'>1</a>\u001b[0m \u001b[39mimport\u001b[39;00m \u001b[39mpandas\u001b[39;00m \u001b[39mas\u001b[39;00m \u001b[39mpd\u001b[39;00m\n\u001b[0;32m      <a href='vscode-notebook-cell:/c%3A/Repos/pythonprojects/OR%20poc/generate_employees.ipynb#ch0000000?line=1'>2</a>\u001b[0m \u001b[39mimport\u001b[39;00m \u001b[39mnumpy\u001b[39;00m \u001b[39mas\u001b[39;00m \u001b[39mnp\u001b[39;00m\n\u001b[0;32m      <a href='vscode-notebook-cell:/c%3A/Repos/pythonprojects/OR%20poc/generate_employees.ipynb#ch0000000?line=2'>3</a>\u001b[0m \u001b[39mimport\u001b[39;00m \u001b[39mmatplotlib\u001b[39;00m\u001b[39m.\u001b[39;00m\u001b[39mpyplot\u001b[39;00m \u001b[39mas\u001b[39;00m \u001b[39mplt\u001b[39;00m\n",
      "\u001b[1;31mModuleNotFoundError\u001b[0m: No module named 'pandas'"
     ]
    }
   ],
   "source": [
    "import pandas as pd\n",
    "import numpy as np\n",
    "import matplotlib.pyplot as plt\n",
    "import numpy.random as rd\n",
    "\n",
    "from faker import Faker\n",
    "from faker.providers.person.nl_NL import Provider"
   ]
  },
  {
   "cell_type": "code",
   "execution_count": null,
   "id": "c3e62551-948d-4a9a-ae28-e74fbef82d4b",
   "metadata": {},
   "outputs": [],
   "source": [
    "# Lijst met steden en de kans dat een werknemer daar woont\n",
    "steden = pd.read_csv(\"steden.csv\")"
   ]
  },
  {
   "cell_type": "code",
   "execution_count": null,
   "id": "bfdf7e1f-0ebd-4d65-9d42-94879abce2e8",
   "metadata": {},
   "outputs": [],
   "source": [
    "# Aantallen werknemers, om gewichten te geven aan de rollen binnen HI/FF\n",
    "jobs = {\n",
    "    \"BI Specialist\": 51,\n",
    "    \"Data Engineer\": 57,\n",
    "    \"Machine Learning Engineer\": 10,\n",
    "    \"Data Scientist\": 10\n",
    "}\n",
    "\n",
    "# De \"proficiency\" matrix, wordt nu nog niet gebruikt\n",
    "# maar kan later in gebruik worden genomen.\n",
    "match_matrix = np.array(\n",
    "    [\n",
    "        [1., 0.9, 0.8, 0.6],\n",
    "        [0.9, 1., 0.9, 0.5],\n",
    "        [0.8, 0.9, 1., 0.5],\n",
    "        [0.6, 0.5, 0.5, 1.]\n",
    "    ]\n",
    ")\n",
    "\n",
    "match_matrix = np.eye(4)"
   ]
  },
  {
   "cell_type": "code",
   "execution_count": null,
   "id": "80c7b72c-e661-45bd-bade-92808f7e58a0",
   "metadata": {},
   "outputs": [],
   "source": [
    "Faker.seed(42)\n",
    "rd.seed(42)"
   ]
  },
  {
   "cell_type": "code",
   "execution_count": null,
   "id": "dea97205-0083-44db-89ae-aec53a534ee7",
   "metadata": {},
   "outputs": [],
   "source": [
    "# Generatoren van Nederlandse namen\n",
    "f = Faker()\n",
    "p = Provider(f)"
   ]
  },
  {
   "cell_type": "code",
   "execution_count": null,
   "id": "0a42c932-3fd0-4458-ba08-41956d9cbafd",
   "metadata": {},
   "outputs": [],
   "source": [
    "emp = pd.DataFrame()"
   ]
  },
  {
   "cell_type": "code",
   "execution_count": null,
   "id": "d031948c-713b-4247-bcdd-09835359229c",
   "metadata": {},
   "outputs": [],
   "source": [
    "n_employees = 150"
   ]
  },
  {
   "cell_type": "code",
   "execution_count": null,
   "id": "859e780a-6a0d-4320-8909-3b1cbe3a19bf",
   "metadata": {},
   "outputs": [],
   "source": [
    "emp[\"name\"] = [f\"{p.first_name()} {p.last_name()}\" for _ in range(n_employees)]"
   ]
  },
  {
   "cell_type": "code",
   "execution_count": null,
   "id": "f814adfc-e61d-4a80-81a5-9c86de8597e2",
   "metadata": {},
   "outputs": [],
   "source": [
    "emp[\"job_title\"] = rd.choice(\n",
    "    list(jobs.keys()), \n",
    "    n_employees,\n",
    "    p=np.array(\n",
    "        list(jobs.values())\n",
    "    ) / sum(\n",
    "        list(jobs.values())\n",
    "    )\n",
    ")"
   ]
  },
  {
   "cell_type": "code",
   "execution_count": null,
   "id": "935a6dbe-dcdf-46ad-bcec-27318b247feb",
   "metadata": {},
   "outputs": [],
   "source": [
    "emp[\"residence\"] = rd.choice(steden.naam, n_employees, p=steden.weight) "
   ]
  },
  {
   "cell_type": "code",
   "execution_count": null,
   "id": "aabd72f9-9fd5-405e-971f-ed9b03f28ee9",
   "metadata": {},
   "outputs": [],
   "source": [
    "emp[\"seniority\"] = rd.choice([\"Junior\", \"Medior\", \"Senior\"], len(emp.index), p=[0.3, 0.4, 0.3])"
   ]
  },
  {
   "cell_type": "code",
   "execution_count": null,
   "id": "1898dc96-c88e-4dd8-99a8-974c3a0bd78b",
   "metadata": {},
   "outputs": [],
   "source": [
    "emp[\"part_time\"] = rd.choice([0.8, 0.9, 1.], len(emp.index), p=[0.1, 0.2, 0.7])"
   ]
  },
  {
   "cell_type": "code",
   "execution_count": null,
   "id": "32eff211-94bb-4757-87b9-055d1a3a62f9",
   "metadata": {},
   "outputs": [
    {
     "data": {
      "text/html": [
       "<div>\n",
       "<style scoped>\n",
       "    .dataframe tbody tr th:only-of-type {\n",
       "        vertical-align: middle;\n",
       "    }\n",
       "\n",
       "    .dataframe tbody tr th {\n",
       "        vertical-align: top;\n",
       "    }\n",
       "\n",
       "    .dataframe thead th {\n",
       "        text-align: right;\n",
       "    }\n",
       "</style>\n",
       "<table border=\"1\" class=\"dataframe\">\n",
       "  <thead>\n",
       "    <tr style=\"text-align: right;\">\n",
       "      <th></th>\n",
       "      <th>name</th>\n",
       "      <th>job_title</th>\n",
       "      <th>residence</th>\n",
       "      <th>seniority</th>\n",
       "      <th>part_time</th>\n",
       "    </tr>\n",
       "  </thead>\n",
       "  <tbody>\n",
       "    <tr>\n",
       "      <th>0</th>\n",
       "      <td>Floortje Heere</td>\n",
       "      <td>BI Specialist</td>\n",
       "      <td>Den Bosch</td>\n",
       "      <td>Junior</td>\n",
       "      <td>1.0</td>\n",
       "    </tr>\n",
       "    <tr>\n",
       "      <th>1</th>\n",
       "      <td>Ayden Schellekens</td>\n",
       "      <td>Data Scientist</td>\n",
       "      <td>Amsterdam</td>\n",
       "      <td>Medior</td>\n",
       "      <td>1.0</td>\n",
       "    </tr>\n",
       "    <tr>\n",
       "      <th>2</th>\n",
       "      <td>Liam Nek</td>\n",
       "      <td>Data Engineer</td>\n",
       "      <td>Amsterdam</td>\n",
       "      <td>Medior</td>\n",
       "      <td>1.0</td>\n",
       "    </tr>\n",
       "    <tr>\n",
       "      <th>3</th>\n",
       "      <td>Imran Goyaerts van Waderle</td>\n",
       "      <td>Data Engineer</td>\n",
       "      <td>Den Haag</td>\n",
       "      <td>Medior</td>\n",
       "      <td>1.0</td>\n",
       "    </tr>\n",
       "    <tr>\n",
       "      <th>4</th>\n",
       "      <td>Ivy van der Spaendonc</td>\n",
       "      <td>BI Specialist</td>\n",
       "      <td>Maastricht</td>\n",
       "      <td>Senior</td>\n",
       "      <td>0.9</td>\n",
       "    </tr>\n",
       "  </tbody>\n",
       "</table>\n",
       "</div>"
      ],
      "text/plain": [
       "                         name       job_title   residence seniority  part_time\n",
       "0              Floortje Heere   BI Specialist   Den Bosch    Junior        1.0\n",
       "1           Ayden Schellekens  Data Scientist   Amsterdam    Medior        1.0\n",
       "2                    Liam Nek   Data Engineer   Amsterdam    Medior        1.0\n",
       "3  Imran Goyaerts van Waderle   Data Engineer    Den Haag    Medior        1.0\n",
       "4       Ivy van der Spaendonc   BI Specialist  Maastricht    Senior        0.9"
      ]
     },
     "execution_count": 14,
     "metadata": {},
     "output_type": "execute_result"
    }
   ],
   "source": [
    "emp.head()"
   ]
  },
  {
   "cell_type": "code",
   "execution_count": null,
   "id": "114fb71f-b46d-4e1c-a39b-69214edf1240",
   "metadata": {},
   "outputs": [],
   "source": [
    "emp.to_csv(\"employees_gen.csv\", index=False)"
   ]
  },
  {
   "cell_type": "code",
   "execution_count": null,
   "id": "1a086bfa-5a7c-4ade-b26b-eb29ea87be45",
   "metadata": {},
   "outputs": [],
   "source": []
  }
 ],
 "metadata": {
  "kernelspec": {
   "display_name": "Python 3 (ipykernel)",
   "language": "python",
   "name": "python3"
  },
  "language_info": {
   "codemirror_mode": {
    "name": "ipython",
    "version": 3
   },
   "file_extension": ".py",
   "mimetype": "text/x-python",
   "name": "python",
   "nbconvert_exporter": "python",
   "pygments_lexer": "ipython3",
   "version": "3.9.13"
  }
 },
 "nbformat": 4,
 "nbformat_minor": 5
}
