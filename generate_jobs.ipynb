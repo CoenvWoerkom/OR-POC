{
 "cells": [
  {
   "cell_type": "code",
   "execution_count": 1,
   "id": "5c287423-e6f2-47c3-8edc-33fcf081fb93",
   "metadata": {},
   "outputs": [],
   "source": [
    "import pandas as pd\n",
    "import numpy as np\n",
    "import matplotlib.pyplot as plt\n",
    "import numpy.random as rd\n",
    "\n",
    "from faker import Faker\n",
    "from faker.providers.company.nl_NL import Provider"
   ]
  },
  {
   "cell_type": "code",
   "execution_count": 2,
   "id": "c3e62551-948d-4a9a-ae28-e74fbef82d4b",
   "metadata": {},
   "outputs": [],
   "source": [
    "steden = pd.read_csv(\"steden.csv\")"
   ]
  },
  {
   "cell_type": "code",
   "execution_count": 3,
   "id": "bfdf7e1f-0ebd-4d65-9d42-94879abce2e8",
   "metadata": {},
   "outputs": [],
   "source": [
    "job_names = [\n",
    "    \"BI Specialist\",\n",
    "    \"Data Engineer\",\n",
    "    \"Machine Learning Engineer\",\n",
    "    \"Data Scientist\"\n",
    "]"
   ]
  },
  {
   "cell_type": "code",
   "execution_count": 4,
   "id": "80c7b72c-e661-45bd-bade-92808f7e58a0",
   "metadata": {},
   "outputs": [],
   "source": [
    "Faker.seed(42)\n",
    "rd.seed(42)"
   ]
  },
  {
   "cell_type": "code",
   "execution_count": 5,
   "id": "dea97205-0083-44db-89ae-aec53a534ee7",
   "metadata": {},
   "outputs": [],
   "source": [
    "f = Faker()\n",
    "p = Provider(f)"
   ]
  },
  {
   "cell_type": "code",
   "execution_count": 6,
   "id": "0a42c932-3fd0-4458-ba08-41956d9cbafd",
   "metadata": {},
   "outputs": [],
   "source": [
    "jobs = pd.DataFrame()"
   ]
  },
  {
   "cell_type": "code",
   "execution_count": 7,
   "id": "d031948c-713b-4247-bcdd-09835359229c",
   "metadata": {},
   "outputs": [],
   "source": [
    "n_jobs = 200"
   ]
  },
  {
   "cell_type": "code",
   "execution_count": 8,
   "id": "859e780a-6a0d-4320-8909-3b1cbe3a19bf",
   "metadata": {},
   "outputs": [],
   "source": [
    "jobs[\"company_name\"] = [p.large_company() for _ in range(n_jobs)]"
   ]
  },
  {
   "cell_type": "code",
   "execution_count": 9,
   "id": "af632275-b73e-4019-b39b-126cd42169e6",
   "metadata": {},
   "outputs": [],
   "source": [
    "jobs[\"n_positions\"] = np.ceil(rd.lognormal(mean=1, sigma=0.5, size=n_jobs))"
   ]
  },
  {
   "cell_type": "code",
   "execution_count": 10,
   "id": "935a6dbe-dcdf-46ad-bcec-27318b247feb",
   "metadata": {},
   "outputs": [],
   "source": [
    "jobs[\"location\"] = rd.choice(steden.naam, n_jobs, p=steden.weight) "
   ]
  },
  {
   "cell_type": "code",
   "execution_count": 11,
   "id": "32eff211-94bb-4757-87b9-055d1a3a62f9",
   "metadata": {},
   "outputs": [
    {
     "data": {
      "text/html": [
       "<div>\n",
       "<style scoped>\n",
       "    .dataframe tbody tr th:only-of-type {\n",
       "        vertical-align: middle;\n",
       "    }\n",
       "\n",
       "    .dataframe tbody tr th {\n",
       "        vertical-align: top;\n",
       "    }\n",
       "\n",
       "    .dataframe thead th {\n",
       "        text-align: right;\n",
       "    }\n",
       "</style>\n",
       "<table border=\"1\" class=\"dataframe\">\n",
       "  <thead>\n",
       "    <tr style=\"text-align: right;\">\n",
       "      <th></th>\n",
       "      <th>company_name</th>\n",
       "      <th>n_positions</th>\n",
       "      <th>location</th>\n",
       "    </tr>\n",
       "  </thead>\n",
       "  <tbody>\n",
       "    <tr>\n",
       "      <th>0</th>\n",
       "      <td>Harvey Nash</td>\n",
       "      <td>4.0</td>\n",
       "      <td>Haarlem</td>\n",
       "    </tr>\n",
       "    <tr>\n",
       "      <th>1</th>\n",
       "      <td>Alliander</td>\n",
       "      <td>3.0</td>\n",
       "      <td>Almere</td>\n",
       "    </tr>\n",
       "    <tr>\n",
       "      <th>2</th>\n",
       "      <td>Royal HaskoningDHV</td>\n",
       "      <td>4.0</td>\n",
       "      <td>Tilburg</td>\n",
       "    </tr>\n",
       "    <tr>\n",
       "      <th>3</th>\n",
       "      <td>Vopak</td>\n",
       "      <td>6.0</td>\n",
       "      <td>Almere</td>\n",
       "    </tr>\n",
       "    <tr>\n",
       "      <th>4</th>\n",
       "      <td>Abbott</td>\n",
       "      <td>3.0</td>\n",
       "      <td>Amsterdam</td>\n",
       "    </tr>\n",
       "  </tbody>\n",
       "</table>\n",
       "</div>"
      ],
      "text/plain": [
       "         company_name  n_positions   location\n",
       "0         Harvey Nash          4.0    Haarlem\n",
       "1           Alliander          3.0     Almere\n",
       "2  Royal HaskoningDHV          4.0    Tilburg\n",
       "3               Vopak          6.0     Almere\n",
       "4              Abbott          3.0  Amsterdam"
      ]
     },
     "execution_count": 11,
     "metadata": {},
     "output_type": "execute_result"
    }
   ],
   "source": [
    "jobs.head()"
   ]
  },
  {
   "cell_type": "code",
   "execution_count": 12,
   "id": "2c6f662c-284c-4a17-b713-e0e436003b5d",
   "metadata": {},
   "outputs": [],
   "source": [
    "def distribution(row):\n",
    "    n = round(row[\"n_positions\"])\n",
    "    project_jobs = rd.choice(job_names, n)\n",
    "    pj = list(project_jobs)\n",
    "    row[\"n_de\"] = pj.count(\"Data Engineer\")\n",
    "    row[\"n_bi\"] = pj.count(\"BI Specialist\")\n",
    "    row[\"n_mle\"] = pj.count(\"Machine Learning Engineer\")\n",
    "    row[\"n_ds\"] = pj.count(\"Data Scientist\")\n",
    "    return row"
   ]
  },
  {
   "cell_type": "code",
   "execution_count": 13,
   "id": "4e93d22e-3581-45c0-870f-1ae166d400be",
   "metadata": {},
   "outputs": [],
   "source": [
    "jobs = jobs.apply(distribution, axis=1)"
   ]
  },
  {
   "cell_type": "code",
   "execution_count": 14,
   "id": "f7bf1543-7e43-4fda-a3db-e1b64748acba",
   "metadata": {},
   "outputs": [],
   "source": [
    "jobs[\"start_day\"] = rd.randint(0, 360, n_jobs)"
   ]
  },
  {
   "cell_type": "code",
   "execution_count": 15,
   "id": "06491c8b-4cfc-4dbc-a0e6-ca0dd565febe",
   "metadata": {},
   "outputs": [],
   "source": [
    "jobs[\"end_day\"] = jobs.start_day + (365 - jobs.start_day) / 365 * rd.randint(0, 360, n_jobs) + 5\n",
    "jobs.end_day = jobs.end_day.astype(int)"
   ]
  },
  {
   "cell_type": "code",
   "execution_count": 16,
   "id": "947b0626-1d5f-41df-af6e-e90d98e22bf1",
   "metadata": {},
   "outputs": [
    {
     "data": {
      "text/html": [
       "<div>\n",
       "<style scoped>\n",
       "    .dataframe tbody tr th:only-of-type {\n",
       "        vertical-align: middle;\n",
       "    }\n",
       "\n",
       "    .dataframe tbody tr th {\n",
       "        vertical-align: top;\n",
       "    }\n",
       "\n",
       "    .dataframe thead th {\n",
       "        text-align: right;\n",
       "    }\n",
       "</style>\n",
       "<table border=\"1\" class=\"dataframe\">\n",
       "  <thead>\n",
       "    <tr style=\"text-align: right;\">\n",
       "      <th></th>\n",
       "      <th>company_name</th>\n",
       "      <th>n_positions</th>\n",
       "      <th>location</th>\n",
       "      <th>n_de</th>\n",
       "      <th>n_bi</th>\n",
       "      <th>n_mle</th>\n",
       "      <th>n_ds</th>\n",
       "      <th>start_day</th>\n",
       "      <th>end_day</th>\n",
       "    </tr>\n",
       "  </thead>\n",
       "  <tbody>\n",
       "    <tr>\n",
       "      <th>0</th>\n",
       "      <td>Harvey Nash</td>\n",
       "      <td>4.0</td>\n",
       "      <td>Haarlem</td>\n",
       "      <td>1</td>\n",
       "      <td>1</td>\n",
       "      <td>1</td>\n",
       "      <td>1</td>\n",
       "      <td>54</td>\n",
       "      <td>319</td>\n",
       "    </tr>\n",
       "    <tr>\n",
       "      <th>1</th>\n",
       "      <td>Alliander</td>\n",
       "      <td>3.0</td>\n",
       "      <td>Almere</td>\n",
       "      <td>0</td>\n",
       "      <td>2</td>\n",
       "      <td>0</td>\n",
       "      <td>1</td>\n",
       "      <td>148</td>\n",
       "      <td>260</td>\n",
       "    </tr>\n",
       "    <tr>\n",
       "      <th>2</th>\n",
       "      <td>Royal HaskoningDHV</td>\n",
       "      <td>4.0</td>\n",
       "      <td>Tilburg</td>\n",
       "      <td>2</td>\n",
       "      <td>2</td>\n",
       "      <td>0</td>\n",
       "      <td>0</td>\n",
       "      <td>308</td>\n",
       "      <td>358</td>\n",
       "    </tr>\n",
       "    <tr>\n",
       "      <th>3</th>\n",
       "      <td>Vopak</td>\n",
       "      <td>6.0</td>\n",
       "      <td>Almere</td>\n",
       "      <td>1</td>\n",
       "      <td>3</td>\n",
       "      <td>0</td>\n",
       "      <td>2</td>\n",
       "      <td>136</td>\n",
       "      <td>317</td>\n",
       "    </tr>\n",
       "    <tr>\n",
       "      <th>4</th>\n",
       "      <td>Abbott</td>\n",
       "      <td>3.0</td>\n",
       "      <td>Amsterdam</td>\n",
       "      <td>0</td>\n",
       "      <td>1</td>\n",
       "      <td>1</td>\n",
       "      <td>1</td>\n",
       "      <td>201</td>\n",
       "      <td>218</td>\n",
       "    </tr>\n",
       "  </tbody>\n",
       "</table>\n",
       "</div>"
      ],
      "text/plain": [
       "         company_name  n_positions   location  n_de  n_bi  n_mle  n_ds  \\\n",
       "0         Harvey Nash          4.0    Haarlem     1     1      1     1   \n",
       "1           Alliander          3.0     Almere     0     2      0     1   \n",
       "2  Royal HaskoningDHV          4.0    Tilburg     2     2      0     0   \n",
       "3               Vopak          6.0     Almere     1     3      0     2   \n",
       "4              Abbott          3.0  Amsterdam     0     1      1     1   \n",
       "\n",
       "   start_day  end_day  \n",
       "0         54      319  \n",
       "1        148      260  \n",
       "2        308      358  \n",
       "3        136      317  \n",
       "4        201      218  "
      ]
     },
     "execution_count": 16,
     "metadata": {},
     "output_type": "execute_result"
    }
   ],
   "source": [
    "jobs.head()"
   ]
  },
  {
   "cell_type": "code",
   "execution_count": 17,
   "id": "114fb71f-b46d-4e1c-a39b-69214edf1240",
   "metadata": {
    "tags": []
   },
   "outputs": [],
   "source": [
    "jobs.to_csv(\"jobs_gen.csv\", index=False)"
   ]
  },
  {
   "cell_type": "code",
   "execution_count": null,
   "id": "4e931c8f-857b-4329-bcc6-d7c2c1346410",
   "metadata": {},
   "outputs": [],
   "source": []
  }
 ],
 "metadata": {
  "interpreter": {
   "hash": "53f86a7ed69894e6b89dba8bf64bb4ccd3f55500c3c1633a0e976cfb207757bf"
  },
  "kernelspec": {
   "display_name": "Python 3.9.13 ('env': venv)",
   "language": "python",
   "name": "python3"
  },
  "language_info": {
   "codemirror_mode": {
    "name": "ipython",
    "version": 3
   },
   "file_extension": ".py",
   "mimetype": "text/x-python",
   "name": "python",
   "nbconvert_exporter": "python",
   "pygments_lexer": "ipython3",
   "version": "3.9.13"
  }
 },
 "nbformat": 4,
 "nbformat_minor": 5
}
